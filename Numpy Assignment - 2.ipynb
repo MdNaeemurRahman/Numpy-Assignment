{
 "cells": [
  {
   "cell_type": "markdown",
   "metadata": {},
   "source": [
    "##  1. Import Numpy"
   ]
  },
  {
   "cell_type": "code",
   "execution_count": 1,
   "metadata": {},
   "outputs": [],
   "source": [
    "import numpy as np"
   ]
  },
  {
   "cell_type": "markdown",
   "metadata": {},
   "source": [
    "## 2. Manually create a matrix \n",
    "Create a 3-by-5 matrix and print it out to the screen"
   ]
  },
  {
   "cell_type": "code",
   "execution_count": 2,
   "metadata": {},
   "outputs": [
    {
     "name": "stdout",
     "output_type": "stream",
     "text": [
      "[[ 1  2  3  4  5]\n",
      " [ 6  7  8  9 10]\n",
      " [11 12 13 14 15]]\n"
     ]
    }
   ],
   "source": [
    "a = np.array([(1,2,3,4,5), (6,7,8,9,10), (11,12,13,14,15)])\n",
    "print(a)"
   ]
  },
  {
   "cell_type": "markdown",
   "metadata": {},
   "source": [
    "## 3. Manually create a vector\n",
    "\n",
    "Create a vector which has 10 elements and print it out to the screen"
   ]
  },
  {
   "cell_type": "code",
   "execution_count": 3,
   "metadata": {},
   "outputs": [
    {
     "data": {
      "text/plain": [
       "array([ 1,  2,  3,  4,  5,  6,  7,  8,  9, 10])"
      ]
     },
     "execution_count": 3,
     "metadata": {},
     "output_type": "execute_result"
    }
   ],
   "source": [
    "b = np.array([1,2,3,4,5,6,7,8,9,10])\n",
    "b"
   ]
  },
  {
   "cell_type": "markdown",
   "metadata": {},
   "source": [
    "## 4. Automatically create matrix\n",
    "\n",
    "Automatically create a 3-by-5 matrix which has interger values in the range of [0, 100] \n",
    "Automatically create a 5-by-7 matrix which has interger values in the range of [0, 100]\n",
    "Print out the above 2 matricces to the screen\n",
    "Implementy matrix multiplication of the above 2 matrices and print the result to the screen (let us call this result matrixx is C)"
   ]
  },
  {
   "cell_type": "code",
   "execution_count": 4,
   "metadata": {},
   "outputs": [
    {
     "data": {
      "text/plain": [
       "array([[79, 22, 11, 80, 38],\n",
       "       [34, 90, 87, 53, 46],\n",
       "       [ 9, 94, 35, 27, 21]])"
      ]
     },
     "execution_count": 4,
     "metadata": {},
     "output_type": "execute_result"
    }
   ],
   "source": [
    "n = np.random.randint(1,100,(3,5))\n",
    "n"
   ]
  },
  {
   "cell_type": "code",
   "execution_count": 5,
   "metadata": {},
   "outputs": [
    {
     "data": {
      "text/plain": [
       "array([[34, 50, 44, 51, 96, 19, 92],\n",
       "       [77, 18, 48, 83, 32, 26, 31],\n",
       "       [96, 60, 49, 73, 90, 28, 97],\n",
       "       [88, 34, 66, 88, 20, 61, 51],\n",
       "       [63, 77, 97, 42, 96, 76, 97]])"
      ]
     },
     "execution_count": 5,
     "metadata": {},
     "output_type": "execute_result"
    }
   ],
   "source": [
    "m = np.random.randint(0,100,(5,7))\n",
    "m"
   ]
  },
  {
   "cell_type": "code",
   "execution_count": 6,
   "metadata": {},
   "outputs": [
    {
     "data": {
      "text/plain": [
       "array([[14870, 10652, 14037, 15294, 14526, 10149, 16783],\n",
       "       [24000, 13884, 18039, 22151, 19450, 12151, 21522],\n",
       "       [14603,  6777, 10442, 14074,  9578,  6838, 10551]])"
      ]
     },
     "execution_count": 6,
     "metadata": {},
     "output_type": "execute_result"
    }
   ],
   "source": [
    "c = n.dot(m)\n",
    "c"
   ]
  },
  {
   "cell_type": "markdown",
   "metadata": {},
   "source": [
    "## 5. Scalar multiplication\n",
    "\n",
    "Input a number fromm keyboard and multiply this number with the above matrix C and print the result to the screen"
   ]
  },
  {
   "cell_type": "code",
   "execution_count": 7,
   "metadata": {},
   "outputs": [
    {
     "name": "stdout",
     "output_type": "stream",
     "text": [
      "Enter a Number = 10\n"
     ]
    }
   ],
   "source": [
    "x = int(input(\"Enter a Number = \"))"
   ]
  },
  {
   "cell_type": "code",
   "execution_count": 8,
   "metadata": {},
   "outputs": [
    {
     "data": {
      "text/plain": [
       "array([[148700, 106520, 140370, 152940, 145260, 101490, 167830],\n",
       "       [240000, 138840, 180390, 221510, 194500, 121510, 215220],\n",
       "       [146030,  67770, 104420, 140740,  95780,  68380, 105510]])"
      ]
     },
     "execution_count": 8,
     "metadata": {},
     "output_type": "execute_result"
    }
   ],
   "source": [
    "x * c"
   ]
  },
  {
   "cell_type": "markdown",
   "metadata": {},
   "source": [
    "## 6. Automatically create vector\n",
    "\n",
    "Automattically create a vector at size of 7-by-1 which has values in the range of [-10, 30]. And multiply the C matrix with this vector. Print the result to the screen."
   ]
  },
  {
   "cell_type": "code",
   "execution_count": 9,
   "metadata": {},
   "outputs": [
    {
     "data": {
      "text/plain": [
       "array([[10],\n",
       "       [11],\n",
       "       [-1],\n",
       "       [ 4],\n",
       "       [ 8],\n",
       "       [-4],\n",
       "       [ 8]])"
      ]
     },
     "execution_count": 9,
     "metadata": {},
     "output_type": "execute_result"
    }
   ],
   "source": [
    "y = np.random.randint(-10,30,(7,1))\n",
    "y"
   ]
  },
  {
   "cell_type": "code",
   "execution_count": 10,
   "metadata": {},
   "outputs": [
    {
     "name": "stdout",
     "output_type": "stream",
     "text": [
      "[[522887]\n",
      " [742461]\n",
      " [400111]]\n"
     ]
    }
   ],
   "source": [
    "cx_multiplication = c.dot(y)\n",
    "print(cx_multiplication)"
   ]
  },
  {
   "cell_type": "markdown",
   "metadata": {},
   "source": [
    "##  7. Matrix slicing\n",
    "\n",
    "1.Automatically create a matrix at size of 7-by-15"
   ]
  },
  {
   "cell_type": "code",
   "execution_count": 16,
   "metadata": {},
   "outputs": [
    {
     "data": {
      "text/plain": [
       "array([[0.75020041, 0.66367851, 0.48292804, 0.88690725, 0.53730965,\n",
       "        0.07480383, 0.26320715, 0.83777855, 0.73512185, 0.95006086,\n",
       "        0.46893986, 0.29206389, 0.47654658, 0.6271419 , 0.39270305],\n",
       "       [0.20292721, 0.6170697 , 0.30662911, 0.64110241, 0.55771003,\n",
       "        0.74091545, 0.55420348, 0.36550556, 0.06529895, 0.77466017,\n",
       "        0.84993251, 0.11886275, 0.35693506, 0.81562146, 0.98181212],\n",
       "       [0.83211784, 0.40604272, 0.4161388 , 0.20200112, 0.66054009,\n",
       "        0.44241239, 0.99653059, 0.05627715, 0.86743703, 0.20480662,\n",
       "        0.14775458, 0.20238938, 0.25030819, 0.03489005, 0.04042304],\n",
       "       [0.62687175, 0.07182486, 0.26754344, 0.61541304, 0.47211997,\n",
       "        0.40587019, 0.37004139, 0.57871981, 0.69172931, 0.3293049 ,\n",
       "        0.28158537, 0.33203493, 0.320675  , 0.46251546, 0.21006383],\n",
       "       [0.60240872, 0.07548048, 0.9116064 , 0.92927429, 0.18932856,\n",
       "        0.31773255, 0.11458341, 0.48668625, 0.628719  , 0.60313136,\n",
       "        0.68398894, 0.80471477, 0.22501805, 0.75788333, 0.76216849],\n",
       "       [0.66005739, 0.50013478, 0.99281392, 0.27200296, 0.86939586,\n",
       "        0.80793098, 0.93836876, 0.71782099, 0.86455256, 0.59217679,\n",
       "        0.96404281, 0.29734506, 0.81903931, 0.79793931, 0.13327017],\n",
       "       [0.47528844, 0.39856447, 0.25056758, 0.69857182, 0.81299919,\n",
       "        0.06458558, 0.38803669, 0.32899115, 0.22475384, 0.16844633,\n",
       "        0.17732739, 0.05901575, 0.08480309, 0.08688232, 0.118652  ]])"
      ]
     },
     "execution_count": 16,
     "metadata": {},
     "output_type": "execute_result"
    }
   ],
   "source": [
    "z = np.random.rand(7,15)\n",
    "z"
   ]
  },
  {
   "cell_type": "markdown",
   "metadata": {},
   "source": [
    "2. Print out the first column of this matrix\n"
   ]
  },
  {
   "cell_type": "code",
   "execution_count": 29,
   "metadata": {},
   "outputs": [
    {
     "data": {
      "text/plain": [
       "array([0.75020041, 0.20292721, 0.83211784, 0.62687175, 0.60240872,\n",
       "       0.66005739, 0.47528844])"
      ]
     },
     "execution_count": 29,
     "metadata": {},
     "output_type": "execute_result"
    }
   ],
   "source": [
    "z[0:7,0]"
   ]
  },
  {
   "cell_type": "code",
   "execution_count": 30,
   "metadata": {},
   "outputs": [
    {
     "data": {
      "text/plain": [
       "array([0.75020041, 0.20292721, 0.83211784, 0.62687175, 0.60240872,\n",
       "       0.66005739, 0.47528844])"
      ]
     },
     "execution_count": 30,
     "metadata": {},
     "output_type": "execute_result"
    }
   ],
   "source": [
    "z[:,0]"
   ]
  },
  {
   "cell_type": "markdown",
   "metadata": {},
   "source": [
    "3. Print out the third row of this matrix"
   ]
  },
  {
   "cell_type": "code",
   "execution_count": 31,
   "metadata": {},
   "outputs": [
    {
     "data": {
      "text/plain": [
       "array([0.83211784, 0.40604272, 0.4161388 , 0.20200112, 0.66054009,\n",
       "       0.44241239, 0.99653059, 0.05627715, 0.86743703, 0.20480662,\n",
       "       0.14775458, 0.20238938, 0.25030819, 0.03489005, 0.04042304])"
      ]
     },
     "execution_count": 31,
     "metadata": {},
     "output_type": "execute_result"
    }
   ],
   "source": [
    "z[2, :]"
   ]
  },
  {
   "cell_type": "markdown",
   "metadata": {},
   "source": [
    "4.Print out the element at the second column and fourth row\n"
   ]
  },
  {
   "cell_type": "code",
   "execution_count": 39,
   "metadata": {},
   "outputs": [
    {
     "data": {
      "text/plain": [
       "0.07182486479825057"
      ]
     },
     "execution_count": 39,
     "metadata": {},
     "output_type": "execute_result"
    }
   ],
   "source": [
    "z[3, 1]"
   ]
  },
  {
   "cell_type": "markdown",
   "metadata": {},
   "source": [
    "## 8. Matrix transposition"
   ]
  },
  {
   "cell_type": "code",
   "execution_count": 43,
   "metadata": {},
   "outputs": [
    {
     "data": {
      "text/plain": [
       "array([[0.75020041, 0.20292721, 0.83211784, 0.62687175, 0.60240872,\n",
       "        0.66005739, 0.47528844],\n",
       "       [0.66367851, 0.6170697 , 0.40604272, 0.07182486, 0.07548048,\n",
       "        0.50013478, 0.39856447],\n",
       "       [0.48292804, 0.30662911, 0.4161388 , 0.26754344, 0.9116064 ,\n",
       "        0.99281392, 0.25056758],\n",
       "       [0.88690725, 0.64110241, 0.20200112, 0.61541304, 0.92927429,\n",
       "        0.27200296, 0.69857182],\n",
       "       [0.53730965, 0.55771003, 0.66054009, 0.47211997, 0.18932856,\n",
       "        0.86939586, 0.81299919],\n",
       "       [0.07480383, 0.74091545, 0.44241239, 0.40587019, 0.31773255,\n",
       "        0.80793098, 0.06458558],\n",
       "       [0.26320715, 0.55420348, 0.99653059, 0.37004139, 0.11458341,\n",
       "        0.93836876, 0.38803669],\n",
       "       [0.83777855, 0.36550556, 0.05627715, 0.57871981, 0.48668625,\n",
       "        0.71782099, 0.32899115],\n",
       "       [0.73512185, 0.06529895, 0.86743703, 0.69172931, 0.628719  ,\n",
       "        0.86455256, 0.22475384],\n",
       "       [0.95006086, 0.77466017, 0.20480662, 0.3293049 , 0.60313136,\n",
       "        0.59217679, 0.16844633],\n",
       "       [0.46893986, 0.84993251, 0.14775458, 0.28158537, 0.68398894,\n",
       "        0.96404281, 0.17732739],\n",
       "       [0.29206389, 0.11886275, 0.20238938, 0.33203493, 0.80471477,\n",
       "        0.29734506, 0.05901575],\n",
       "       [0.47654658, 0.35693506, 0.25030819, 0.320675  , 0.22501805,\n",
       "        0.81903931, 0.08480309],\n",
       "       [0.6271419 , 0.81562146, 0.03489005, 0.46251546, 0.75788333,\n",
       "        0.79793931, 0.08688232],\n",
       "       [0.39270305, 0.98181212, 0.04042304, 0.21006383, 0.76216849,\n",
       "        0.13327017, 0.118652  ]])"
      ]
     },
     "execution_count": 43,
     "metadata": {},
     "output_type": "execute_result"
    }
   ],
   "source": [
    "i = np.transpose(z)\n",
    "i"
   ]
  },
  {
   "cell_type": "markdown",
   "metadata": {},
   "source": [
    "## 9. Matrix addition\n",
    "\n",
    "1.Automatically create 2 integer matrix which have values in the range of [-10, 30]\n",
    "\n",
    "2.Print them to the screen\n",
    "\n",
    "3.Perform matrix addition of the above 2 matrices and print the result to the screen."
   ]
  },
  {
   "cell_type": "code",
   "execution_count": 51,
   "metadata": {},
   "outputs": [
    {
     "data": {
      "text/plain": [
       "26"
      ]
     },
     "execution_count": 51,
     "metadata": {},
     "output_type": "execute_result"
    }
   ],
   "source": [
    "g = np.random.randint(-10,30)\n",
    "g"
   ]
  },
  {
   "cell_type": "code",
   "execution_count": 52,
   "metadata": {},
   "outputs": [
    {
     "data": {
      "text/plain": [
       "5"
      ]
     },
     "execution_count": 52,
     "metadata": {},
     "output_type": "execute_result"
    }
   ],
   "source": [
    "h = np.random.randint(-10,30)\n",
    "h"
   ]
  },
  {
   "cell_type": "code",
   "execution_count": 53,
   "metadata": {},
   "outputs": [
    {
     "data": {
      "text/plain": [
       "31"
      ]
     },
     "execution_count": 53,
     "metadata": {},
     "output_type": "execute_result"
    }
   ],
   "source": [
    "g + h"
   ]
  },
  {
   "cell_type": "code",
   "execution_count": 58,
   "metadata": {},
   "outputs": [
    {
     "data": {
      "text/plain": [
       "31"
      ]
     },
     "execution_count": 58,
     "metadata": {},
     "output_type": "execute_result"
    }
   ],
   "source": [
    "# another way\n",
    "np.add(g,h)"
   ]
  },
  {
   "cell_type": "markdown",
   "metadata": {},
   "source": [
    "##########################################"
   ]
  },
  {
   "cell_type": "code",
   "execution_count": 60,
   "metadata": {},
   "outputs": [
    {
     "name": "stdout",
     "output_type": "stream",
     "text": [
      "[29 -6]\n",
      "[21 26]\n"
     ]
    }
   ],
   "source": [
    "g2 = np.random.randint(-10,30,2)\n",
    "g3 = np.random.randint(-10,30,2)\n",
    "print(g2)\n",
    "print(g3)"
   ]
  },
  {
   "cell_type": "code",
   "execution_count": 61,
   "metadata": {},
   "outputs": [
    {
     "data": {
      "text/plain": [
       "array([50, 20])"
      ]
     },
     "execution_count": 61,
     "metadata": {},
     "output_type": "execute_result"
    }
   ],
   "source": [
    "g2 + g3"
   ]
  },
  {
   "cell_type": "code",
   "execution_count": 63,
   "metadata": {},
   "outputs": [
    {
     "data": {
      "text/plain": [
       "array([50, 20])"
      ]
     },
     "execution_count": 63,
     "metadata": {},
     "output_type": "execute_result"
    }
   ],
   "source": [
    "# or \n",
    "np.add(g2,g3)"
   ]
  },
  {
   "cell_type": "code",
   "execution_count": null,
   "metadata": {},
   "outputs": [],
   "source": []
  }
 ],
 "metadata": {
  "kernelspec": {
   "display_name": "Python 3",
   "language": "python",
   "name": "python3"
  },
  "language_info": {
   "codemirror_mode": {
    "name": "ipython",
    "version": 3
   },
   "file_extension": ".py",
   "mimetype": "text/x-python",
   "name": "python",
   "nbconvert_exporter": "python",
   "pygments_lexer": "ipython3",
   "version": "3.7.4"
  }
 },
 "nbformat": 4,
 "nbformat_minor": 2
}
