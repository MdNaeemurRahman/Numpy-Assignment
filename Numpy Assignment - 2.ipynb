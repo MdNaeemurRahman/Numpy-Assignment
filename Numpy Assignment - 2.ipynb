{
 "cells": [
  {
   "cell_type": "markdown",
   "metadata": {},
   "source": [
    "##  1. Import Numpy"
   ]
  },
  {
   "cell_type": "code",
   "execution_count": 1,
   "metadata": {},
   "outputs": [],
   "source": [
    "import numpy as np"
   ]
  },
  {
   "cell_type": "markdown",
   "metadata": {},
   "source": [
    "## 2. Manually create a matrix \n",
    "Create a 3-by-5 matrix and print it out to the screen"
   ]
  },
  {
   "cell_type": "code",
   "execution_count": 2,
   "metadata": {},
   "outputs": [
    {
     "name": "stdout",
     "output_type": "stream",
     "text": [
      "[[ 1  2  3  4  5]\n",
      " [ 6  7  8  9 10]\n",
      " [11 12 13 14 15]]\n"
     ]
    }
   ],
   "source": [
    "a = np.array([(1,2,3,4,5), (6,7,8,9,10), (11,12,13,14,15)])\n",
    "print(a)"
   ]
  },
  {
   "cell_type": "markdown",
   "metadata": {},
   "source": [
    "## 3. Manually create a vector\n",
    "\n",
    "Create a vector which has 10 elements and print it out to the screen"
   ]
  },
  {
   "cell_type": "code",
   "execution_count": 3,
   "metadata": {},
   "outputs": [
    {
     "data": {
      "text/plain": [
       "array([ 1,  2,  3,  4,  5,  6,  7,  8,  9, 10])"
      ]
     },
     "execution_count": 3,
     "metadata": {},
     "output_type": "execute_result"
    }
   ],
   "source": [
    "b = np.array([1,2,3,4,5,6,7,8,9,10])\n",
    "b"
   ]
  },
  {
   "cell_type": "markdown",
   "metadata": {},
   "source": [
    "## 4. Automatically create matrix\n",
    "\n",
    "Automatically create a 3-by-5 matrix which has interger values in the range of [0, 100] \n",
    "Automatically create a 5-by-7 matrix which has interger values in the range of [0, 100]\n",
    "Print out the above 2 matricces to the screen\n",
    "Implementy matrix multiplication of the above 2 matrices and print the result to the screen (let us call this result matrixx is C)"
   ]
  },
  {
   "cell_type": "code",
   "execution_count": 4,
   "metadata": {},
   "outputs": [
    {
     "data": {
      "text/plain": [
       "array([[19, 15, 39, 54,  9],\n",
       "       [53, 61, 35, 23, 14],\n",
       "       [87, 39, 52, 60, 45]])"
      ]
     },
     "execution_count": 4,
     "metadata": {},
     "output_type": "execute_result"
    }
   ],
   "source": [
    "n = np.random.randint(1,100,(3,5))\n",
    "n"
   ]
  },
  {
   "cell_type": "code",
   "execution_count": 5,
   "metadata": {},
   "outputs": [
    {
     "data": {
      "text/plain": [
       "array([[76, 10, 88, 77, 39, 25, 33],\n",
       "       [96, 95, 53, 80, 32, 43, 96],\n",
       "       [56, 51, 10, 96, 44,  2,  6],\n",
       "       [78,  7, 12,  7, 40, 20, 17],\n",
       "       [25, 26, 61,  8, 58, 36, 29]])"
      ]
     },
     "execution_count": 5,
     "metadata": {},
     "output_type": "execute_result"
    }
   ],
   "source": [
    "m = np.random.randint(0,100,(5,7))\n",
    "m"
   ]
  },
  {
   "cell_type": "code",
   "execution_count": 6,
   "metadata": {},
   "outputs": [
    {
     "data": {
      "text/plain": [
       "array([[ 9505,  4216,  4054,  6857,  5619,  2602,  3480],\n",
       "       [13988,  8635,  9377, 12594,  7291,  4982,  8612],\n",
       "       [19073,  8817, 13708, 15591, 11939,  6776,  9252]])"
      ]
     },
     "execution_count": 6,
     "metadata": {},
     "output_type": "execute_result"
    }
   ],
   "source": [
    "c = n.dot(m)\n",
    "c"
   ]
  },
  {
   "cell_type": "markdown",
   "metadata": {},
   "source": [
    "## 5. Scalar multiplication\n",
    "\n",
    "Input a number fromm keyboard and multiply this number with the above matrix C and print the result to the screen"
   ]
  },
  {
   "cell_type": "code",
   "execution_count": 7,
   "metadata": {},
   "outputs": [
    {
     "name": "stdout",
     "output_type": "stream",
     "text": [
      "Enter a Number = 10\n"
     ]
    }
   ],
   "source": [
    "x = int(input(\"Enter a Number = \"))"
   ]
  },
  {
   "cell_type": "code",
   "execution_count": 8,
   "metadata": {},
   "outputs": [
    {
     "data": {
      "text/plain": [
       "array([[ 95050,  42160,  40540,  68570,  56190,  26020,  34800],\n",
       "       [139880,  86350,  93770, 125940,  72910,  49820,  86120],\n",
       "       [190730,  88170, 137080, 155910, 119390,  67760,  92520]])"
      ]
     },
     "execution_count": 8,
     "metadata": {},
     "output_type": "execute_result"
    }
   ],
   "source": [
    "x * c"
   ]
  },
  {
   "cell_type": "markdown",
   "metadata": {},
   "source": [
    "## 6. Automatically create vector\n",
    "\n",
    "Automattically create a vector at size of 7-by-1 which has values in the range of [-10, 30]. And multiply the C matrix with this vector. Print the result to the screen."
   ]
  },
  {
   "cell_type": "code",
   "execution_count": 9,
   "metadata": {},
   "outputs": [
    {
     "data": {
      "text/plain": [
       "array([[-7],\n",
       "       [ 0],\n",
       "       [-1],\n",
       "       [24],\n",
       "       [20],\n",
       "       [18],\n",
       "       [24]])"
      ]
     },
     "execution_count": 9,
     "metadata": {},
     "output_type": "execute_result"
    }
   ],
   "source": [
    "y = np.random.randint(-10,30,(7,1))\n",
    "y"
   ]
  },
  {
   "cell_type": "code",
   "execution_count": 10,
   "metadata": {},
   "outputs": [
    {
     "name": "stdout",
     "output_type": "stream",
     "text": [
      "[[336715]\n",
      " [637147]\n",
      " [809761]]\n"
     ]
    }
   ],
   "source": [
    "cx_multiplication = c.dot(y)\n",
    "print(cx_multiplication)"
   ]
  },
  {
   "cell_type": "markdown",
   "metadata": {},
   "source": [
    "##  7. Matrix slicing\n",
    "\n",
    "1.Automatically create a matrix at size of 7-by-15"
   ]
  },
  {
   "cell_type": "code",
   "execution_count": 11,
   "metadata": {},
   "outputs": [
    {
     "data": {
      "text/plain": [
       "array([[0.08224651, 0.08592456, 0.33904997, 0.43718256, 0.23068324,\n",
       "        0.9342249 , 0.23229351, 0.03756255, 0.9089843 , 0.26437046,\n",
       "        0.62406673, 0.15484095, 0.0575529 , 0.02690438, 0.45392912],\n",
       "       [0.53866733, 0.69971669, 0.3891356 , 0.30589863, 0.1818081 ,\n",
       "        0.3558773 , 0.30152906, 0.8753454 , 0.54706505, 0.06435866,\n",
       "        0.65335438, 0.97707152, 0.91635288, 0.20622579, 0.42793391],\n",
       "       [0.52209879, 0.14715851, 0.40041449, 0.01960131, 0.43191804,\n",
       "        0.85649108, 0.6176526 , 0.61219111, 0.45696665, 0.871961  ,\n",
       "        0.26986717, 0.45659266, 0.50388664, 0.41201596, 0.38307933],\n",
       "       [0.70989607, 0.46886248, 0.71671602, 0.42004158, 0.75529394,\n",
       "        0.30189895, 0.29188171, 0.40969578, 0.19321512, 0.7439894 ,\n",
       "        0.54006034, 0.19494348, 0.43496336, 0.54376609, 0.18595104],\n",
       "       [0.28151634, 0.56909596, 0.47692375, 0.09490413, 0.16285912,\n",
       "        0.44277464, 0.07711749, 0.07642623, 0.46164848, 0.50310792,\n",
       "        0.88814036, 0.48209033, 0.29568235, 0.63349453, 0.63129038],\n",
       "       [0.12027041, 0.07300845, 0.20627905, 0.15040471, 0.0920792 ,\n",
       "        0.17087112, 0.61268868, 0.28279534, 0.08370198, 0.52225079,\n",
       "        0.98816739, 0.99271305, 0.54970751, 0.91750352, 0.17093455],\n",
       "       [0.87103075, 0.99423541, 0.93067501, 0.23665186, 0.05800474,\n",
       "        0.46742222, 0.23488281, 0.31873742, 0.38240538, 0.31858415,\n",
       "        0.0424049 , 0.39895826, 0.82793091, 0.41672071, 0.77440767]])"
      ]
     },
     "execution_count": 11,
     "metadata": {},
     "output_type": "execute_result"
    }
   ],
   "source": [
    "z = np.random.rand(7,15)\n",
    "z"
   ]
  },
  {
   "cell_type": "markdown",
   "metadata": {},
   "source": [
    "2. Print out the first column of this matrix\n"
   ]
  },
  {
   "cell_type": "code",
   "execution_count": 12,
   "metadata": {},
   "outputs": [
    {
     "data": {
      "text/plain": [
       "array([0.08224651, 0.53866733, 0.52209879, 0.70989607, 0.28151634,\n",
       "       0.12027041, 0.87103075])"
      ]
     },
     "execution_count": 12,
     "metadata": {},
     "output_type": "execute_result"
    }
   ],
   "source": [
    "z[0:7,0]"
   ]
  },
  {
   "cell_type": "code",
   "execution_count": 13,
   "metadata": {},
   "outputs": [
    {
     "data": {
      "text/plain": [
       "array([0.08224651, 0.53866733, 0.52209879, 0.70989607, 0.28151634,\n",
       "       0.12027041, 0.87103075])"
      ]
     },
     "execution_count": 13,
     "metadata": {},
     "output_type": "execute_result"
    }
   ],
   "source": [
    "z[:,0]"
   ]
  },
  {
   "cell_type": "markdown",
   "metadata": {},
   "source": [
    "3. Print out the third row of this matrix"
   ]
  },
  {
   "cell_type": "code",
   "execution_count": 14,
   "metadata": {},
   "outputs": [
    {
     "data": {
      "text/plain": [
       "array([0.52209879, 0.14715851, 0.40041449, 0.01960131, 0.43191804,\n",
       "       0.85649108, 0.6176526 , 0.61219111, 0.45696665, 0.871961  ,\n",
       "       0.26986717, 0.45659266, 0.50388664, 0.41201596, 0.38307933])"
      ]
     },
     "execution_count": 14,
     "metadata": {},
     "output_type": "execute_result"
    }
   ],
   "source": [
    "z[2, :]"
   ]
  },
  {
   "cell_type": "markdown",
   "metadata": {},
   "source": [
    "4.Print out the element at the second column and fourth row\n"
   ]
  },
  {
   "cell_type": "code",
   "execution_count": 15,
   "metadata": {},
   "outputs": [
    {
     "data": {
      "text/plain": [
       "0.46886247633742195"
      ]
     },
     "execution_count": 15,
     "metadata": {},
     "output_type": "execute_result"
    }
   ],
   "source": [
    "z[3, 1]"
   ]
  },
  {
   "cell_type": "markdown",
   "metadata": {},
   "source": [
    "## 8. Matrix transposition"
   ]
  },
  {
   "cell_type": "code",
   "execution_count": 16,
   "metadata": {},
   "outputs": [
    {
     "data": {
      "text/plain": [
       "array([[0.08224651, 0.53866733, 0.52209879, 0.70989607, 0.28151634,\n",
       "        0.12027041, 0.87103075],\n",
       "       [0.08592456, 0.69971669, 0.14715851, 0.46886248, 0.56909596,\n",
       "        0.07300845, 0.99423541],\n",
       "       [0.33904997, 0.3891356 , 0.40041449, 0.71671602, 0.47692375,\n",
       "        0.20627905, 0.93067501],\n",
       "       [0.43718256, 0.30589863, 0.01960131, 0.42004158, 0.09490413,\n",
       "        0.15040471, 0.23665186],\n",
       "       [0.23068324, 0.1818081 , 0.43191804, 0.75529394, 0.16285912,\n",
       "        0.0920792 , 0.05800474],\n",
       "       [0.9342249 , 0.3558773 , 0.85649108, 0.30189895, 0.44277464,\n",
       "        0.17087112, 0.46742222],\n",
       "       [0.23229351, 0.30152906, 0.6176526 , 0.29188171, 0.07711749,\n",
       "        0.61268868, 0.23488281],\n",
       "       [0.03756255, 0.8753454 , 0.61219111, 0.40969578, 0.07642623,\n",
       "        0.28279534, 0.31873742],\n",
       "       [0.9089843 , 0.54706505, 0.45696665, 0.19321512, 0.46164848,\n",
       "        0.08370198, 0.38240538],\n",
       "       [0.26437046, 0.06435866, 0.871961  , 0.7439894 , 0.50310792,\n",
       "        0.52225079, 0.31858415],\n",
       "       [0.62406673, 0.65335438, 0.26986717, 0.54006034, 0.88814036,\n",
       "        0.98816739, 0.0424049 ],\n",
       "       [0.15484095, 0.97707152, 0.45659266, 0.19494348, 0.48209033,\n",
       "        0.99271305, 0.39895826],\n",
       "       [0.0575529 , 0.91635288, 0.50388664, 0.43496336, 0.29568235,\n",
       "        0.54970751, 0.82793091],\n",
       "       [0.02690438, 0.20622579, 0.41201596, 0.54376609, 0.63349453,\n",
       "        0.91750352, 0.41672071],\n",
       "       [0.45392912, 0.42793391, 0.38307933, 0.18595104, 0.63129038,\n",
       "        0.17093455, 0.77440767]])"
      ]
     },
     "execution_count": 16,
     "metadata": {},
     "output_type": "execute_result"
    }
   ],
   "source": [
    "i = np.transpose(z)\n",
    "i"
   ]
  },
  {
   "cell_type": "markdown",
   "metadata": {},
   "source": [
    "## 9. Matrix addition\n",
    "\n",
    "1.Automatically create 2 integer matrix which have values in the range of [-10, 30]\n",
    "\n",
    "2.Print them to the screen\n",
    "\n",
    "3.Perform matrix addition of the above 2 matrices and print the result to the screen."
   ]
  },
  {
   "cell_type": "code",
   "execution_count": 18,
   "metadata": {},
   "outputs": [
    {
     "data": {
      "text/plain": [
       "array([[ 17,   4, -10,  29,  -5],\n",
       "       [ -5,   2,  18,  27,  27],\n",
       "       [ 22,  -1,  20,  11,   0]])"
      ]
     },
     "execution_count": 18,
     "metadata": {},
     "output_type": "execute_result"
    }
   ],
   "source": [
    "g = np.random.randint(-10,30, (3,5))\n",
    "g"
   ]
  },
  {
   "cell_type": "code",
   "execution_count": 19,
   "metadata": {},
   "outputs": [
    {
     "data": {
      "text/plain": [
       "array([[16, -6,  9, 21, 24],\n",
       "       [ 0, 22, 24, 12, -2],\n",
       "       [18, 17,  0, 15,  2]])"
      ]
     },
     "execution_count": 19,
     "metadata": {},
     "output_type": "execute_result"
    }
   ],
   "source": [
    "h = np.random.randint(-10,30, (3,5))\n",
    "h"
   ]
  },
  {
   "cell_type": "code",
   "execution_count": 20,
   "metadata": {},
   "outputs": [
    {
     "data": {
      "text/plain": [
       "array([[33, -2, -1, 50, 19],\n",
       "       [-5, 24, 42, 39, 25],\n",
       "       [40, 16, 20, 26,  2]])"
      ]
     },
     "execution_count": 20,
     "metadata": {},
     "output_type": "execute_result"
    }
   ],
   "source": [
    "g + h"
   ]
  },
  {
   "cell_type": "code",
   "execution_count": 21,
   "metadata": {},
   "outputs": [
    {
     "data": {
      "text/plain": [
       "array([[33, -2, -1, 50, 19],\n",
       "       [-5, 24, 42, 39, 25],\n",
       "       [40, 16, 20, 26,  2]])"
      ]
     },
     "execution_count": 21,
     "metadata": {},
     "output_type": "execute_result"
    }
   ],
   "source": [
    "# another way\n",
    "np.add(g,h)"
   ]
  },
  {
   "cell_type": "markdown",
   "metadata": {},
   "source": [
    "##########################################"
   ]
  },
  {
   "cell_type": "code",
   "execution_count": 22,
   "metadata": {},
   "outputs": [
    {
     "name": "stdout",
     "output_type": "stream",
     "text": [
      "[[ -1  23]\n",
      " [ 29   9]\n",
      " [ -2  11]\n",
      " [  9  19]\n",
      " [ -1  23]\n",
      " [-10  19]\n",
      " [ 26   4]]\n",
      "[[17 18]\n",
      " [ 4  7]\n",
      " [ 5 28]\n",
      " [12  2]\n",
      " [ 7 19]\n",
      " [ 4 -9]\n",
      " [21 -6]]\n"
     ]
    }
   ],
   "source": [
    "g2 = np.random.randint(-10,30, (7,2))\n",
    "g3 = np.random.randint(-10,30, (7,2))\n",
    "print(g2)\n",
    "print(g3)"
   ]
  },
  {
   "cell_type": "code",
   "execution_count": 23,
   "metadata": {},
   "outputs": [
    {
     "data": {
      "text/plain": [
       "array([[16, 41],\n",
       "       [33, 16],\n",
       "       [ 3, 39],\n",
       "       [21, 21],\n",
       "       [ 6, 42],\n",
       "       [-6, 10],\n",
       "       [47, -2]])"
      ]
     },
     "execution_count": 23,
     "metadata": {},
     "output_type": "execute_result"
    }
   ],
   "source": [
    "g2 + g3"
   ]
  },
  {
   "cell_type": "code",
   "execution_count": 24,
   "metadata": {},
   "outputs": [
    {
     "data": {
      "text/plain": [
       "array([[16, 41],\n",
       "       [33, 16],\n",
       "       [ 3, 39],\n",
       "       [21, 21],\n",
       "       [ 6, 42],\n",
       "       [-6, 10],\n",
       "       [47, -2]])"
      ]
     },
     "execution_count": 24,
     "metadata": {},
     "output_type": "execute_result"
    }
   ],
   "source": [
    "# or \n",
    "np.add(g2,g3)"
   ]
  },
  {
   "cell_type": "code",
   "execution_count": null,
   "metadata": {},
   "outputs": [],
   "source": []
  }
 ],
 "metadata": {
  "kernelspec": {
   "display_name": "Python 3",
   "language": "python",
   "name": "python3"
  },
  "language_info": {
   "codemirror_mode": {
    "name": "ipython",
    "version": 3
   },
   "file_extension": ".py",
   "mimetype": "text/x-python",
   "name": "python",
   "nbconvert_exporter": "python",
   "pygments_lexer": "ipython3",
   "version": "3.7.4"
  }
 },
 "nbformat": 4,
 "nbformat_minor": 2
}
